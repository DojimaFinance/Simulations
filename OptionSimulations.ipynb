{
 "cells": [
  {
   "cell_type": "code",
   "execution_count": 475,
   "id": "5e6fa30f-8875-45c7-8a52-aa0575c307c1",
   "metadata": {},
   "outputs": [],
   "source": [
    "import pandas as pd \n",
    "import numpy as np\n",
    "\n",
    "\n",
    "%matplotlib inline\n",
    "import matplotlib.pyplot as plt\n"
   ]
  },
  {
   "cell_type": "code",
   "execution_count": 494,
   "id": "9dc11ed3-311b-4752-9e8f-9837727581b2",
   "metadata": {},
   "outputs": [],
   "source": [
    "# Option Paramaters \n",
    "\n",
    "# Covered Call\n",
    "\n",
    "callStrikePrice = .2 # premium of strike price vs market price \n",
    "callPrice = .02 # cost ot purchase on option\n",
    "\n",
    "# Covered Put\n",
    "\n",
    "putStrikePrice = -.2 # discount of strike price vs market price \n",
    "putPrice = .02 # cost ot purchase on option\n",
    "\n",
    "# Other Paramaters \n",
    "annualYield = .2 # yield on assets \n",
    "expiryTime = 7 #number of days to expiry \n"
   ]
  },
  {
   "cell_type": "code",
   "execution_count": 495,
   "id": "c9ade382-2924-4d7e-8044-2bfb9e79c627",
   "metadata": {},
   "outputs": [],
   "source": [
    "def coveredCallReturn(priceChange) : \n",
    "    assets = (1 + callPrice)*(1 + annualYield*expiryTime/365)\n",
    "    optionValue = max(priceChange - callStrikePrice , 0) \n",
    "    finalValue = (assets * (1 + priceChange) - optionValue) / (1+priceChange)\n",
    "    return (finalValue)\n",
    "\n",
    "def coveredPutReturn(priceChange) : \n",
    "    assets = (1 + putPrice)*(1 + annualYield*expiryTime/365)\n",
    "    optionValue = max(putStrikePrice - priceChange , 0) \n",
    "    finalValue = assets - optionValue\n",
    "    return (finalValue)\n"
   ]
  },
  {
   "cell_type": "code",
   "execution_count": 496,
   "id": "3eca34e6-19ff-4410-a3f6-7784667061f8",
   "metadata": {},
   "outputs": [
    {
     "data": {
      "text/plain": [
       "1.0239123287671232"
      ]
     },
     "execution_count": 496,
     "metadata": {},
     "output_type": "execute_result"
    }
   ],
   "source": [
    "priceChange = .1\n",
    "coveredCallReturn(priceChange) "
   ]
  },
  {
   "cell_type": "code",
   "execution_count": 497,
   "id": "bf3ec888-45d7-473f-9d4a-d03ab5ec153a",
   "metadata": {},
   "outputs": [
    {
     "data": {
      "text/plain": [
       "0.6239123287671233"
      ]
     },
     "execution_count": 497,
     "metadata": {},
     "output_type": "execute_result"
    }
   ],
   "source": [
    "coveredPutReturn(-.6)"
   ]
  },
  {
   "cell_type": "code",
   "execution_count": null,
   "id": "6cd14b9d-f319-41aa-9b1f-99fb34d086f9",
   "metadata": {},
   "outputs": [],
   "source": []
  },
  {
   "cell_type": "code",
   "execution_count": 498,
   "id": "88474db7-8a3a-4089-b8ec-301968e02aa0",
   "metadata": {},
   "outputs": [],
   "source": [
    "asset = 'ETH'\n",
    "\n",
    "df = pd.read_csv(\"prices_all_1h\" + asset + \".csv\")\n",
    "cols = ['Time']\n",
    "cols.append('Open_' + asset)\n",
    "cols.append('Close_' + str(expiryTime) +  '_' + asset)\n",
    "cols.append('Fwd_Close_' + str(expiryTime) + '_' + asset)\n",
    "cols.append('Fwd_Max_' + str(expiryTime) + '_' + asset)\n",
    "cols.append('Fwd_Min_' + str(expiryTime) + '_' + asset)\n",
    "\n"
   ]
  },
  {
   "cell_type": "code",
   "execution_count": 499,
   "id": "021920cd-8419-48d3-a884-cba35b264259",
   "metadata": {},
   "outputs": [],
   "source": [
    "df_sim = df[cols]"
   ]
  },
  {
   "cell_type": "code",
   "execution_count": 500,
   "id": "fc4d3140-5731-4f27-aafc-6e7c65002076",
   "metadata": {},
   "outputs": [],
   "source": [
    "df_sim = df_sim.dropna()\n",
    "df_sim = df_sim[ : -8]"
   ]
  },
  {
   "cell_type": "code",
   "execution_count": 501,
   "id": "16566b98-4dd9-4d9f-a6d1-a2a45b36c1b4",
   "metadata": {},
   "outputs": [],
   "source": [
    "#df_sim = df_sim[300 : ]"
   ]
  },
  {
   "cell_type": "code",
   "execution_count": 502,
   "id": "6f275d5e-1e79-4841-b8e9-03a0deaff9e9",
   "metadata": {},
   "outputs": [],
   "source": [
    "n = len(df_sim)"
   ]
  },
  {
   "cell_type": "code",
   "execution_count": 503,
   "id": "e4f4f9b7-3d75-4d34-a66f-b45f7692fcfa",
   "metadata": {},
   "outputs": [
    {
     "data": {
      "text/plain": [
       "660"
      ]
     },
     "execution_count": 503,
     "metadata": {},
     "output_type": "execute_result"
    }
   ],
   "source": [
    "n"
   ]
  },
  {
   "cell_type": "code",
   "execution_count": 504,
   "id": "acdd3cab-edc0-4875-900e-f9294ae47375",
   "metadata": {},
   "outputs": [],
   "source": [
    "pLow = -0.8; pHigh = .8 \n",
    "nSims = 100\n",
    "pIncr = (pHigh - pLow) / nSims\n",
    "\n",
    "pChange = []\n",
    "callReturn = []\n",
    "putReturn = []\n",
    "\n",
    "p = pLow\n",
    "\n",
    "for j in range(nSims) : \n",
    "    call = coveredCallReturn(p) - 1\n",
    "    put = coveredPutReturn(p) - 1\n",
    "    pChange.append(p)\n",
    "    callReturn.append(call)\n",
    "    putReturn.append(put)\n",
    "    p += pIncr\n"
   ]
  },
  {
   "cell_type": "code",
   "execution_count": 505,
   "id": "1846a0ab-83eb-48c8-a0fb-a99b45a113ee",
   "metadata": {},
   "outputs": [
    {
     "data": {
      "text/html": [
       "<div>\n",
       "<style scoped>\n",
       "    .dataframe tbody tr th:only-of-type {\n",
       "        vertical-align: middle;\n",
       "    }\n",
       "\n",
       "    .dataframe tbody tr th {\n",
       "        vertical-align: top;\n",
       "    }\n",
       "\n",
       "    .dataframe thead th {\n",
       "        text-align: right;\n",
       "    }\n",
       "</style>\n",
       "<table border=\"1\" class=\"dataframe\">\n",
       "  <thead>\n",
       "    <tr style=\"text-align: right;\">\n",
       "      <th></th>\n",
       "      <th>Time</th>\n",
       "      <th>Open_ETH</th>\n",
       "      <th>High_ETH</th>\n",
       "      <th>Low_ETH</th>\n",
       "      <th>Close_ETH</th>\n",
       "      <th>Volume_ETH</th>\n",
       "      <th>Fwd_Close_1_ETH</th>\n",
       "      <th>Close_1_ETH</th>\n",
       "      <th>Fwd_High_1_ETH</th>\n",
       "      <th>Fwd_Low_1_ETH</th>\n",
       "      <th>...</th>\n",
       "      <th>Fwd_High_9_ETH</th>\n",
       "      <th>Fwd_Low_9_ETH</th>\n",
       "      <th>Fwd_Max_9_ETH</th>\n",
       "      <th>Fwd_Min_9_ETH</th>\n",
       "      <th>Fwd_Close_10_ETH</th>\n",
       "      <th>Close_10_ETH</th>\n",
       "      <th>Fwd_High_10_ETH</th>\n",
       "      <th>Fwd_Low_10_ETH</th>\n",
       "      <th>Fwd_Max_10_ETH</th>\n",
       "      <th>Fwd_Min_10_ETH</th>\n",
       "    </tr>\n",
       "  </thead>\n",
       "  <tbody>\n",
       "    <tr>\n",
       "      <th>0</th>\n",
       "      <td>2020-01-01 00:00:00</td>\n",
       "      <td>129.16</td>\n",
       "      <td>133.05</td>\n",
       "      <td>128.68</td>\n",
       "      <td>130.77</td>\n",
       "      <td>144770.52197</td>\n",
       "      <td>0.984748</td>\n",
       "      <td>127.19</td>\n",
       "      <td>1.012543</td>\n",
       "      <td>0.978476</td>\n",
       "      <td>...</td>\n",
       "      <td>1.123955</td>\n",
       "      <td>1.047693</td>\n",
       "      <td>1.144085</td>\n",
       "      <td>0.974605</td>\n",
       "      <td>1.102354</td>\n",
       "      <td>142.38</td>\n",
       "      <td>1.146253</td>\n",
       "      <td>1.100108</td>\n",
       "      <td>1.144085</td>\n",
       "      <td>0.974605</td>\n",
       "    </tr>\n",
       "    <tr>\n",
       "      <th>1</th>\n",
       "      <td>2020-01-02 00:00:00</td>\n",
       "      <td>130.72</td>\n",
       "      <td>130.78</td>\n",
       "      <td>126.38</td>\n",
       "      <td>127.19</td>\n",
       "      <td>213757.05806</td>\n",
       "      <td>1.027769</td>\n",
       "      <td>134.35</td>\n",
       "      <td>1.033813</td>\n",
       "      <td>0.962974</td>\n",
       "      <td>...</td>\n",
       "      <td>1.132573</td>\n",
       "      <td>1.086980</td>\n",
       "      <td>1.130431</td>\n",
       "      <td>0.962974</td>\n",
       "      <td>1.121022</td>\n",
       "      <td>146.54</td>\n",
       "      <td>1.121481</td>\n",
       "      <td>1.084455</td>\n",
       "      <td>1.132573</td>\n",
       "      <td>0.962974</td>\n",
       "    </tr>\n",
       "    <tr>\n",
       "      <th>2</th>\n",
       "      <td>2020-01-03 00:00:00</td>\n",
       "      <td>127.19</td>\n",
       "      <td>135.14</td>\n",
       "      <td>125.88</td>\n",
       "      <td>134.35</td>\n",
       "      <td>413055.18895</td>\n",
       "      <td>1.055114</td>\n",
       "      <td>134.20</td>\n",
       "      <td>1.068087</td>\n",
       "      <td>1.041749</td>\n",
       "      <td>...</td>\n",
       "      <td>1.152606</td>\n",
       "      <td>1.114553</td>\n",
       "      <td>1.164007</td>\n",
       "      <td>1.041749</td>\n",
       "      <td>1.128862</td>\n",
       "      <td>143.58</td>\n",
       "      <td>1.155751</td>\n",
       "      <td>1.118563</td>\n",
       "      <td>1.164007</td>\n",
       "      <td>1.041749</td>\n",
       "    </tr>\n",
       "    <tr>\n",
       "      <th>3</th>\n",
       "      <td>2020-01-04 00:00:00</td>\n",
       "      <td>134.37</td>\n",
       "      <td>135.85</td>\n",
       "      <td>132.50</td>\n",
       "      <td>134.20</td>\n",
       "      <td>184276.17102</td>\n",
       "      <td>1.007442</td>\n",
       "      <td>135.37</td>\n",
       "      <td>1.028429</td>\n",
       "      <td>0.998660</td>\n",
       "      <td>...</td>\n",
       "      <td>1.093994</td>\n",
       "      <td>1.058793</td>\n",
       "      <td>1.101808</td>\n",
       "      <td>0.998660</td>\n",
       "      <td>1.232716</td>\n",
       "      <td>165.64</td>\n",
       "      <td>1.277815</td>\n",
       "      <td>1.068021</td>\n",
       "      <td>1.101808</td>\n",
       "      <td>0.998660</td>\n",
       "    </tr>\n",
       "    <tr>\n",
       "      <th>4</th>\n",
       "      <td>2020-01-05 00:00:00</td>\n",
       "      <td>134.20</td>\n",
       "      <td>138.19</td>\n",
       "      <td>134.19</td>\n",
       "      <td>135.37</td>\n",
       "      <td>254120.45343</td>\n",
       "      <td>1.074143</td>\n",
       "      <td>144.15</td>\n",
       "      <td>1.076080</td>\n",
       "      <td>1.004918</td>\n",
       "      <td>...</td>\n",
       "      <td>1.279434</td>\n",
       "      <td>1.069374</td>\n",
       "      <td>1.103204</td>\n",
       "      <td>1.004918</td>\n",
       "      <td>1.239940</td>\n",
       "      <td>166.40</td>\n",
       "      <td>1.281520</td>\n",
       "      <td>1.186289</td>\n",
       "      <td>1.279434</td>\n",
       "      <td>1.004918</td>\n",
       "    </tr>\n",
       "  </tbody>\n",
       "</table>\n",
       "<p>5 rows × 66 columns</p>\n",
       "</div>"
      ],
      "text/plain": [
       "                  Time  Open_ETH  High_ETH  Low_ETH  Close_ETH    Volume_ETH  \\\n",
       "0  2020-01-01 00:00:00    129.16    133.05   128.68     130.77  144770.52197   \n",
       "1  2020-01-02 00:00:00    130.72    130.78   126.38     127.19  213757.05806   \n",
       "2  2020-01-03 00:00:00    127.19    135.14   125.88     134.35  413055.18895   \n",
       "3  2020-01-04 00:00:00    134.37    135.85   132.50     134.20  184276.17102   \n",
       "4  2020-01-05 00:00:00    134.20    138.19   134.19     135.37  254120.45343   \n",
       "\n",
       "   Fwd_Close_1_ETH  Close_1_ETH  Fwd_High_1_ETH  Fwd_Low_1_ETH  ...  \\\n",
       "0         0.984748       127.19        1.012543       0.978476  ...   \n",
       "1         1.027769       134.35        1.033813       0.962974  ...   \n",
       "2         1.055114       134.20        1.068087       1.041749  ...   \n",
       "3         1.007442       135.37        1.028429       0.998660  ...   \n",
       "4         1.074143       144.15        1.076080       1.004918  ...   \n",
       "\n",
       "   Fwd_High_9_ETH  Fwd_Low_9_ETH  Fwd_Max_9_ETH  Fwd_Min_9_ETH  \\\n",
       "0        1.123955       1.047693       1.144085       0.974605   \n",
       "1        1.132573       1.086980       1.130431       0.962974   \n",
       "2        1.152606       1.114553       1.164007       1.041749   \n",
       "3        1.093994       1.058793       1.101808       0.998660   \n",
       "4        1.279434       1.069374       1.103204       1.004918   \n",
       "\n",
       "   Fwd_Close_10_ETH  Close_10_ETH  Fwd_High_10_ETH  Fwd_Low_10_ETH  \\\n",
       "0          1.102354        142.38         1.146253        1.100108   \n",
       "1          1.121022        146.54         1.121481        1.084455   \n",
       "2          1.128862        143.58         1.155751        1.118563   \n",
       "3          1.232716        165.64         1.277815        1.068021   \n",
       "4          1.239940        166.40         1.281520        1.186289   \n",
       "\n",
       "   Fwd_Max_10_ETH  Fwd_Min_10_ETH  \n",
       "0        1.144085        0.974605  \n",
       "1        1.132573        0.962974  \n",
       "2        1.164007        1.041749  \n",
       "3        1.101808        0.998660  \n",
       "4        1.279434        1.004918  \n",
       "\n",
       "[5 rows x 66 columns]"
      ]
     },
     "execution_count": 505,
     "metadata": {},
     "output_type": "execute_result"
    }
   ],
   "source": [
    "df.head()"
   ]
  },
  {
   "cell_type": "code",
   "execution_count": 506,
   "id": "6979652a-987e-4753-949d-7a99da5d8fab",
   "metadata": {},
   "outputs": [
    {
     "data": {
      "image/png": "[encoded data removed]",
      "text/plain": [
       "<Figure size 1080x432 with 2 Axes>"
      ]
     },
     "metadata": {
      "needs_background": "light"
     },
     "output_type": "display_data"
    }
   ],
   "source": [
    "fig = plt.figure()\n",
    "fig.set_size_inches(15,6)\n",
    "\n",
    "#fig.subplots_adjust(hspace=1, wspace=1)\n",
    "\n",
    "ax = fig.add_subplot(1, 2, 1)\n",
    "ax.set_ylabel('Value')\n",
    "ax.set_xlabel('Relative Price Change')\n",
    "plt.scatter(pChange, callReturn, label = \"Covered Call Return\")\n",
    "plt.legend(loc = 'upper left')\n",
    "plt.title(\"Covered Call Example\")\n",
    "\n",
    "#ax.scatter(priceChangeLog, drawdownLog)\n",
    "#ax2.plot(debtRatioLog, color = 'orange', label = 'Debt Ratio')\n",
    "#ax2.legend()\n",
    "\n",
    "ax = fig.add_subplot(1, 2, 2)\n",
    "ax.set_ylabel('Value')\n",
    "ax.set_xlabel('Relative Price Change')\n",
    "plt.scatter(pChange, putReturn, label = \"Covered Put Return\")\n",
    "plt.legend(loc = 'upper left')\n",
    "plt.title(\"Covered Put Example\")\n",
    "\n",
    "\n",
    "plt.show()"
   ]
  },
  {
   "cell_type": "code",
   "execution_count": 507,
   "id": "12cc1a21-8625-4ae5-9d76-1d40e9e91a25",
   "metadata": {},
   "outputs": [],
   "source": [
    "#starting values for sim \n",
    "callCloseAccum = 1\n",
    "callMaxAccum = 1\n",
    "putCloseAccum = 1\n",
    "putMaxAccum = 1 \n",
    "\n",
    "relativePrice = []\n",
    "priceChange = []\n",
    "priceChangeMin = []\n",
    "priceChangeMax = []\n",
    "\n",
    "callReturnMax = []\n",
    "callReturnClose = []\n",
    "putReturnMin = []\n",
    "putReturnClose = []\n",
    "\n",
    "cumulativeCallReturnMax = []\n",
    "cumulativeCallReturnClose = []\n",
    "cumulativePutReturnMin = []\n",
    "cumulativePutReturnClose = []\n",
    "\n",
    "startPrice = df_sim['Open_' + asset].iloc[0]\n",
    "\n",
    "for i in range(n):\n",
    "\n",
    "    relativePrice.append(df_sim['Close_' + str(expiryTime) + '_' + asset].iloc[i] / startPrice)\n",
    "    priceChange.append(df_sim['Fwd_Close_' + str(expiryTime) + '_' + asset].iloc[i])\n",
    "    priceChangeMin.append(df_sim['Fwd_Min_' + str(expiryTime) + '_' + asset].iloc[i])\n",
    "    priceChangeMax.append(df_sim['Fwd_Max_' + str(expiryTime) + '_' + asset].iloc[i])\n",
    "    \n",
    "    callReturnMax.append(coveredCallReturn(df_sim['Fwd_Max_' + str(expiryTime) + '_' + asset].iloc[i] - 1) )\n",
    "    callReturnClose.append(coveredCallReturn(df_sim['Fwd_Close_' + str(expiryTime) + '_' + asset].iloc[i] - 1) )\n",
    "    putReturnMin.append(coveredPutReturn(df_sim['Fwd_Min_' + str(expiryTime) + '_' + asset].iloc[i] - 1) )\n",
    "    putReturnClose.append(coveredPutReturn(df_sim['Fwd_Close_' + str(expiryTime) + '_' + asset].iloc[i] - 1) )    \n",
    "    \n",
    "    callCloseAccum = callCloseAccum*coveredCallReturn(df_sim['Fwd_Close_' + str(expiryTime) + '_' + asset].iloc[i] - 1) \n",
    "    callMaxAccum = callMaxAccum*coveredCallReturn(df_sim['Fwd_Max_' + str(expiryTime) + '_' + asset].iloc[i] - 1) \n",
    "    putCloseAccum = putCloseAccum*coveredPutReturn(df_sim['Fwd_Close_' + str(expiryTime) + '_' + asset].iloc[i] - 1) \n",
    "    putMaxAccum = putMaxAccum*coveredPutReturn(df_sim['Fwd_Min_' + str(expiryTime) + '_' + asset].iloc[i] - 1) \n",
    "    \n",
    "    cumulativeCallReturnMax.append(callMaxAccum)\n",
    "    cumulativeCallReturnClose.append(callCloseAccum)\n",
    "    cumulativePutReturnMin.append(putMaxAccum)\n",
    "    cumulativePutReturnClose.append(putCloseAccum)"
   ]
  },
  {
   "cell_type": "code",
   "execution_count": 508,
   "id": "d2099e4e-f13d-495f-b0c9-11c2c765232f",
   "metadata": {},
   "outputs": [
    {
     "data": {
      "image/png": "[encoded data removed]",
      "text/plain": [
       "<Figure size 1080x360 with 4 Axes>"
      ]
     },
     "metadata": {
      "needs_background": "light"
     },
     "output_type": "display_data"
    }
   ],
   "source": [
    "#plt.subplot()\n",
    "fig = plt.figure()\n",
    "fig.set_size_inches(15,5)\n",
    "\n",
    "#fig.subplots_adjust(hspace=1, wspace=1)\n",
    "\n",
    "ax = fig.add_subplot(1, 2, 1)\n",
    "ax.plot(cumulativeCallReturnMax, color = 'red', label = 'Covered Call Return (worst)' )\n",
    "ax.plot(cumulativeCallReturnClose, color = 'grey', label = 'Covered Call Return (close)' )\n",
    "\n",
    "ax2 = ax.twinx()\n",
    "ax2.plot(relativePrice, color = 'blue', label = 'Price' )\n",
    "#ax2.plot(debtRatioLog, color = 'orange', label = 'Debt Ratio')\n",
    "ax2.legend(loc = 'lower right')\n",
    "\n",
    "ax.legend(loc = 'lower left')\n",
    "\n",
    "\n",
    "ax = fig.add_subplot(1, 2, 2)\n",
    "\n",
    "ax.plot(cumulativePutReturnMin, color = 'red', label = 'Covered Put Return (worst)' )\n",
    "ax.plot(cumulativePutReturnClose, color = 'grey', label = 'Covered Put Return (close)' )\n",
    "\n",
    "ax.legend(loc = 'lower left')\n",
    "\n",
    "ax2 = ax.twinx()\n",
    "ax2.plot(relativePrice, color = 'blue', label = 'Price' )\n",
    "#ax2.plot(debtRatioLog, color = 'orange', label = 'Debt Ratio')\n",
    "ax2.legend(loc = 'lower right')\n",
    "\n",
    "plt.show()"
   ]
  },
  {
   "cell_type": "code",
   "execution_count": 509,
   "id": "0998552e-7211-4901-899f-5041c5a1a107",
   "metadata": {},
   "outputs": [
    {
     "data": {
      "text/plain": [
       "(array([  1.,   0.,   2.,   2.,   0.,   0.,   2.,   1.,   1.,   0.,   2.,\n",
       "          2.,   1.,   8.,   7.,   8.,  13.,  19.,   8., 583.]),\n",
       " array([0.70940763, 0.72513286, 0.7408581 , 0.75658333, 0.77230857,\n",
       "        0.7880338 , 0.80375904, 0.81948427, 0.83520951, 0.85093474,\n",
       "        0.86665998, 0.88238521, 0.89811045, 0.91383568, 0.92956092,\n",
       "        0.94528615, 0.96101139, 0.97673662, 0.99246186, 1.00818709,\n",
       "        1.02391233]),\n",
       " <BarContainer object of 20 artists>)"
      ]
     },
     "execution_count": 509,
     "metadata": {},
     "output_type": "execute_result"
    },
    {
     "data": {
      "image/png": "[encoded data removed]",
      "text/plain": [
       "<Figure size 1080x360 with 2 Axes>"
      ]
     },
     "metadata": {
      "needs_background": "light"
     },
     "output_type": "display_data"
    }
   ],
   "source": [
    "fig = plt.figure()\n",
    "fig.set_size_inches(15,5)\n",
    "n_bins = 20\n",
    "\n",
    "ax = fig.add_subplot(1, 2, 1)\n",
    "# We can set the number of bins with the `bins` kwarg\n",
    "ax.hist(callReturnMax, bins=n_bins)\n",
    "\n",
    "ax = fig.add_subplot(1, 2, 2)\n",
    "ax.hist(callReturnClose, bins=n_bins)"
   ]
  },
  {
   "cell_type": "code",
   "execution_count": 492,
   "id": "eb3c5257-b774-4648-aa86-7df15074f5bc",
   "metadata": {},
   "outputs": [],
   "source": [
    "# look at range of prices for options / strike price \n",
    "\n",
    "callStrikePrice = .15 # premium of strike price vs market price \n",
    "callPriceMin = .0 # cost ot purchase on option\n",
    "callPriceMax = .015 # cost ot purchase on option\n",
    "\n",
    "putStrikePrice = -0.15 # premium of strike price vs market price \n",
    "putPriceMin = .0 # cost ot purchase on option\n",
    "putPriceeMax = .02 # cost ot purchase on option\n",
    "\n",
    "nSims = 40\n",
    "pIncrCall = (callPriceMax - callPriceMin) / nSims\n",
    "pIncrPut = (callPriceMax - callPriceMin) / nSims\n",
    "\n",
    "\n",
    "callPrices = []\n",
    "callCloseRet = []\n",
    "callMaxRet = []\n",
    "\n",
    "putPrices = []\n",
    "putCloseRet = []\n",
    "putMaxRet = []\n",
    "\n",
    "callPrice = callPriceMin\n",
    "putPrice = putPriceMin\n",
    "\n",
    "\n",
    "for j in range(nSims) : \n",
    "    callCloseAccum = 1\n",
    "    callMaxAccum = 1\n",
    "    putCloseAccum = 1\n",
    "    putMaxAccum = 1\n",
    "    callPrices.append(callPrice)\n",
    "    putPrices.append(putPrice)\n",
    "\n",
    "    for i in range(n):\n",
    "        callCloseAccum = callCloseAccum*coveredCallReturn(df_sim['Fwd_Close_' + str(expiryTime) + '_' + asset].iloc[i] - 1) \n",
    "        callMaxAccum = callMaxAccum*coveredCallReturn(df_sim['Fwd_Max_' + str(expiryTime) + '_' + asset].iloc[i] - 1) \n",
    "\n",
    "        putCloseAccum = putCloseAccum*coveredPutReturn(df_sim['Fwd_Close_' + str(expiryTime) + '_' + asset].iloc[i] - 1) \n",
    "        putMaxAccum = putMaxAccum*coveredPutReturn(df_sim['Fwd_Min_' + str(expiryTime) + '_' + asset].iloc[i] - 1) \n",
    "        \n",
    "        \n",
    "    callCloseRet.append(callCloseAccum)\n",
    "    callMaxRet.append(callMaxAccum)\n",
    "\n",
    "    putCloseRet.append(putCloseAccum)\n",
    "    putMaxRet.append(putMaxAccum)\n",
    "\n",
    "    callPrice += pIncrCall\n",
    "    putPrice += pIncrPut"
   ]
  },
  {
   "cell_type": "code",
   "execution_count": 493,
   "id": "8ad63003-a569-40fb-a393-a09a683ba155",
   "metadata": {},
   "outputs": [
    {
     "data": {
      "image/png": "[encoded data removed]",
      "text/plain": [
       "<Figure size 1080x432 with 2 Axes>"
      ]
     },
     "metadata": {
      "needs_background": "light"
     },
     "output_type": "display_data"
    }
   ],
   "source": [
    "fig = plt.figure()\n",
    "fig.set_size_inches(15,6)\n",
    "\n",
    "#fig.subplots_adjust(hspace=1, wspace=1)\n",
    "\n",
    "ax = fig.add_subplot(1, 2, 1)\n",
    "ax.set_ylabel('Cumulative Return')\n",
    "ax.set_xlabel('Call Price')\n",
    "ax.set_ylim([0, 2])\n",
    "plt.scatter(callPrices, callCloseRet, label = \"Covered Call Return\")\n",
    "plt.scatter(callPrices, callMaxRet, label = \"Covered Call Return (worst)\")\n",
    "plt.legend(loc = 'upper left')\n",
    "plt.title(\"Covered Call Example\")\n",
    "\n",
    "#ax.scatter(priceChangeLog, drawdownLog)\n",
    "#ax2.plot(debtRatioLog, color = 'orange', label = 'Debt Ratio')\n",
    "#ax2.legend()\n",
    "\n",
    "ax = fig.add_subplot(1, 2, 2)\n",
    "ax.set_ylabel('Cumulative Return')\n",
    "ax.set_xlabel('Put Price')\n",
    "ax.set_ylim([0, 2])\n",
    "\n",
    "plt.scatter(callPrices, putCloseRet, label = \"Covered Put Return\")\n",
    "plt.scatter(callPrices, putMaxRet, label = \"Covered Put Return (worst)\")\n",
    "plt.legend(loc = 'upper left')\n",
    "plt.title(\"Covered Call Example\")\n",
    "\n",
    "\n",
    "\n",
    "plt.show()"
   ]
  },
  {
   "cell_type": "code",
   "execution_count": null,
   "id": "c8a7521d-21b6-4dc9-a33e-dae56ef7beb6",
   "metadata": {},
   "outputs": [],
   "source": []
  },
  {
   "cell_type": "code",
   "execution_count": null,
   "id": "f299b1ea-449c-41f5-9593-392cf0b197bf",
   "metadata": {},
   "outputs": [],
   "source": []
  }
 ],
 "metadata": {
  "kernelspec": {
   "display_name": "Python 3",
   "language": "python",
   "name": "python3"
  },
  "language_info": {
   "codemirror_mode": {
    "name": "ipython",
    "version": 3
   },
   "file_extension": ".py",
   "mimetype": "text/x-python",
   "name": "python",
   "nbconvert_exporter": "python",
   "pygments_lexer": "ipython3",
   "version": "3.8.8"
  }
 },
 "nbformat": 4,
 "nbformat_minor": 5
}
